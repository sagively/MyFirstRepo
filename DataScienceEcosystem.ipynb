{
 "cells": [
  {
   "cell_type": "markdown",
   "id": "a589e3cc-d726-4388-b57f-294e31480645",
   "metadata": {},
   "source": [
    "# Data Science Tools and Ecosystem"
   ]
  },
  {
   "cell_type": "markdown",
   "id": "b5bf786b-dfd6-4066-a9d0-b998391d5f9e",
   "metadata": {},
   "source": [
    "## Author: \n",
    "Sagiv"
   ]
  },
  {
   "cell_type": "markdown",
   "id": "ff1bdf3f-c70d-489d-bd3c-ee0dcb6bcc90",
   "metadata": {},
   "source": [
    "## In this notebook, Data Science Tools and Ecosystem are summarized."
   ]
  },
  {
   "cell_type": "markdown",
   "id": "3a313354-4c70-460e-88b4-9a479c04a31c",
   "metadata": {},
   "source": [
    "### **Objectives:**\n",
    "* List popular languages for Data Science\n",
    "* commonly used libraries\n",
    "* arithmetic expressions in Python"
   ]
  },
  {
   "cell_type": "markdown",
   "id": "5dcc6f19-ff38-4bb9-8299-f68e756b67cc",
   "metadata": {},
   "source": [
    "### Some of the popular languages that Data Scientists use are:"
   ]
  },
  {
   "cell_type": "markdown",
   "id": "168d1608-b1e6-481d-9a9d-83466435388f",
   "metadata": {},
   "source": [
    "1. SQL\n",
    "2. R\n",
    "3. Java\n",
    "4. Python"
   ]
  },
  {
   "cell_type": "markdown",
   "id": "9c8e90c1-d288-427b-af2f-86d710d352a7",
   "metadata": {},
   "source": [
    "### Some of the commonly used libraries used by Data Scientists include:"
   ]
  },
  {
   "cell_type": "markdown",
   "id": "580f6018-83e3-4d0e-a9bd-fcaa250bfc63",
   "metadata": {},
   "source": [
    "1. NumPy\n",
    "2. Pandas\n",
    "3. Seaborn"
   ]
  },
  {
   "cell_type": "markdown",
   "id": "33ea69f2-c7d0-4aa6-a7db-4a35ed77797b",
   "metadata": {},
   "source": [
    "| Data Science Tools|\n",
    "|-------------------|\n",
    "| R Studio          |\n",
    "| JupterNotebook    |\n",
    "| JupterLab         |"
   ]
  },
  {
   "cell_type": "markdown",
   "id": "a594a699-0e58-4400-8d90-047f0e1bc807",
   "metadata": {},
   "source": [
    "### Below are a few examples of evaluating arithmetic expressions in Python"
   ]
  },
  {
   "cell_type": "code",
   "execution_count": 26,
   "id": "36f7cc4b-e0e9-4552-821c-c4fd54b05f5f",
   "metadata": {},
   "outputs": [
    {
     "data": {
      "text/plain": [
       "17"
      ]
     },
     "execution_count": 26,
     "metadata": {},
     "output_type": "execute_result"
    }
   ],
   "source": [
    "# This a simple arithmetic expression to mutiply then add integers\n",
    "\n",
    "(3*4)+5"
   ]
  },
  {
   "cell_type": "code",
   "execution_count": 28,
   "id": "dac7fd87-ddb6-4ca1-8294-40a63e43374b",
   "metadata": {},
   "outputs": [
    {
     "data": {
      "text/plain": [
       "3.3333333333333335"
      ]
     },
     "execution_count": 28,
     "metadata": {},
     "output_type": "execute_result"
    }
   ],
   "source": [
    "# This will convert 200 minutes to hours by diving by 60\n",
    "\n",
    "200/60"
   ]
  },
  {
   "cell_type": "code",
   "execution_count": null,
   "id": "8ba5c08b-8357-4c03-9c3d-ac58757bde71",
   "metadata": {},
   "outputs": [],
   "source": []
  }
 ],
 "metadata": {
  "kernelspec": {
   "display_name": "Python 3 (ipykernel)",
   "language": "python",
   "name": "python3"
  },
  "language_info": {
   "codemirror_mode": {
    "name": "ipython",
    "version": 3
   },
   "file_extension": ".py",
   "mimetype": "text/x-python",
   "name": "python",
   "nbconvert_exporter": "python",
   "pygments_lexer": "ipython3",
   "version": "3.12.4"
  }
 },
 "nbformat": 4,
 "nbformat_minor": 5
}
